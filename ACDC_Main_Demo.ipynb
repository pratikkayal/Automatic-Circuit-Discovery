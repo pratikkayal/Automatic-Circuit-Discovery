{
 "cells": [
  {
   "cell_type": "markdown",
   "id": "0b47b9e8",
   "metadata": {
    "papermill": {
     "duration": 0.041811,
     "end_time": "2023-06-16T20:31:36.014649",
     "exception": false,
     "start_time": "2023-06-16T20:31:35.972838",
     "status": "completed"
    },
    "tags": []
   },
   "source": [
    "<h1>ACDC Main Demo</h1>\n",
    "\n",
    "<p>This notebook (which doubles as a script) shows several use cases of ACDC</p>\n",
    "\n",
    "<p>The codebase is built on top of https://github.com/neelnanda-io/TransformerLens (source version)</p>\n",
    "\n",
    "<h3>Setup:</h3>\n",
    "<p>Janky code to do different setup when run in a Colab notebook vs VSCode (adapted from e.g <a href=\"https://github.com/neelnanda-io/TransformerLens/blob/5c89b7583e73ce96db5e46ef86a14b15f303dde6/demos/Activation_Patching_in_TL_Demo.ipynb\">this notebook</a>)</p>"
   ]
  },
  {
   "cell_type": "code",
   "execution_count": 1,
   "id": "1597b7a2",
   "metadata": {
    "papermill": {
     "duration": 0.317476,
     "end_time": "2023-06-16T20:31:36.336163",
     "exception": false,
     "start_time": "2023-06-16T20:31:36.018687",
     "status": "completed"
    },
    "tags": []
   },
   "outputs": [
    {
     "name": "stdout",
     "output_type": "stream",
     "text": [
      "Running as a outside of colab\n",
      "Running as a notebook\n"
     ]
    }
   ],
   "source": [
    "try:\n",
    "    import google.colab\n",
    "\n",
    "    IN_COLAB = True\n",
    "    print(\"Running as a Colab notebook\")\n",
    "\n",
    "    import subprocess # to install graphviz dependencies\n",
    "    command = ['apt-get', 'install', 'graphviz-dev']\n",
    "    subprocess.run(command, check=True)\n",
    "\n",
    "    import os # make images folder\n",
    "    os.mkdir(\"ims/\")\n",
    "\n",
    "    from IPython import get_ipython\n",
    "    ipython = get_ipython()\n",
    "\n",
    "    ipython.run_line_magic( # install ACDC\n",
    "        \"pip\",\n",
    "        \"install git+https://github.com/ArthurConmy/Automatic-Circuit-Discovery.git@9d5844a\",\n",
    "    )\n",
    "\n",
    "except Exception as e:\n",
    "    IN_COLAB = False\n",
    "    print(\"Running as a outside of colab\")\n",
    "\n",
    "    import numpy # crucial to not get cursed error\n",
    "    import plotly\n",
    "\n",
    "    plotly.io.renderers.default = \"colab\"  # added by Arthur so running as a .py notebook with #%% generates .ipynb notebooks that display in colab\n",
    "    # disable this option when developing rather than generating notebook outputs\n",
    "\n",
    "    import os # make images folder\n",
    "    if not os.path.exists(\"ims/\"):\n",
    "        os.mkdir(\"ims/\")\n",
    "\n",
    "    from IPython import get_ipython\n",
    "\n",
    "    ipython = get_ipython()\n",
    "    if ipython is not None:\n",
    "        print(\"Running as a notebook\")\n",
    "        ipython.run_line_magic(\"load_ext\", \"autoreload\")  # type: ignore\n",
    "        ipython.run_line_magic(\"autoreload\", \"2\")  # type: ignore\n",
    "    else:\n",
    "        print(\"Running as a script\")"
   ]
  },
  {
   "cell_type": "markdown",
   "id": "6b1f2708",
   "metadata": {
    "papermill": {
     "duration": 0.004304,
     "end_time": "2023-06-16T20:31:36.347791",
     "exception": false,
     "start_time": "2023-06-16T20:31:36.343487",
     "status": "completed"
    },
    "tags": []
   },
   "source": [
    "<h2>Imports etc</h2>"
   ]
  },
  {
   "cell_type": "code",
   "execution_count": 2,
   "id": "7db2c14f",
   "metadata": {
    "papermill": {
     "duration": 5.122868,
     "end_time": "2023-06-16T20:31:41.474131",
     "exception": false,
     "start_time": "2023-06-16T20:31:36.351263",
     "status": "completed"
    },
    "tags": []
   },
   "outputs": [
    {
     "name": "stderr",
     "output_type": "stream",
     "text": [
      "/home/ubuntu/miniconda3/envs/acdc/lib/python3.11/site-packages/tqdm/auto.py:21: TqdmWarning:\n",
      "\n",
      "IProgress not found. Please update jupyter and ipywidgets. See https://ipywidgets.readthedocs.io/en/stable/user_install.html\n",
      "\n"
     ]
    },
    {
     "name": "stdout",
     "output_type": "stream",
     "text": [
      "The autoreload extension is already loaded. To reload it, use:\n",
      "  %reload_ext autoreload\n",
      "Could not import `tracr` because No module named 'tracr'; the rest of the file should work but you cannot use the tracr tasks\n"
     ]
    },
    {
     "data": {
      "text/plain": [
       "<torch.autograd.grad_mode.set_grad_enabled at 0x7fcf86fb85d0>"
      ]
     },
     "execution_count": 2,
     "metadata": {},
     "output_type": "execute_result"
    }
   ],
   "source": [
    "import wandb\n",
    "import IPython\n",
    "from IPython.display import Image, display\n",
    "import torch\n",
    "import gc\n",
    "from tqdm import tqdm\n",
    "import networkx as nx\n",
    "import os\n",
    "import torch\n",
    "import huggingface_hub\n",
    "import torch.nn as nn\n",
    "import torch.nn.functional as F\n",
    "import torch.optim as optim\n",
    "import numpy as np\n",
    "import einops\n",
    "from tqdm import tqdm\n",
    "import yaml\n",
    "from transformers import AutoModelForCausalLM, AutoConfig, AutoTokenizer\n",
    "\n",
    "import matplotlib.pyplot as plt\n",
    "import plotly.express as px\n",
    "import plotly.io as pio\n",
    "from plotly.subplots import make_subplots\n",
    "import plotly.graph_objects as go\n",
    "\n",
    "from transformer_lens.hook_points import HookedRootModule, HookPoint\n",
    "from transformer_lens.HookedTransformer import (\n",
    "    HookedTransformer,\n",
    ")\n",
    "try:\n",
    "    from acdc.tracr_task.utils import (\n",
    "        get_all_tracr_things,\n",
    "        get_tracr_model_input_and_tl_model,\n",
    "    )\n",
    "except Exception as e:\n",
    "    print(f\"Could not import `tracr` because {e}; the rest of the file should work but you cannot use the tracr tasks\")\n",
    "from acdc.docstring.utils import get_all_docstring_things\n",
    "from acdc.acdc_utils import (\n",
    "    make_nd_dict,\n",
    "    reset_network,\n",
    "    shuffle_tensor,\n",
    "    cleanup,\n",
    "    ct,\n",
    "    TorchIndex,\n",
    "    Edge,\n",
    "    EdgeType,\n",
    ")  # these introduce several important classes !!!\n",
    "\n",
    "from acdc.TLACDCCorrespondence import TLACDCCorrespondence\n",
    "from acdc.TLACDCInterpNode import TLACDCInterpNode\n",
    "from acdc.TLACDCExperiment import TLACDCExperiment\n",
    "\n",
    "from acdc.acdc_utils import (\n",
    "    kl_divergence,\n",
    ")\n",
    "from acdc.ioi.utils import (\n",
    "    get_all_ioi_things,\n",
    "    get_gpt2_small,\n",
    ")\n",
    "from acdc.induction.utils import (\n",
    "    get_all_induction_things,\n",
    "    get_validation_data,\n",
    "    get_good_induction_candidates,\n",
    "    get_mask_repeat_candidates,\n",
    ")\n",
    "from acdc.greaterthan.utils import get_all_greaterthan_things\n",
    "from acdc.acdc_graphics import (\n",
    "    build_colorscheme,\n",
    "    show,\n",
    ")\n",
    "import argparse\n",
    "\n",
    "torch.autograd.set_grad_enabled(False)"
   ]
  },
  {
   "cell_type": "markdown",
   "id": "f362f095",
   "metadata": {
    "papermill": {
     "duration": 0.00547,
     "end_time": "2023-06-16T20:31:41.490727",
     "exception": false,
     "start_time": "2023-06-16T20:31:41.485257",
     "status": "completed"
    },
    "tags": []
   },
   "source": [
    "<h2>ACDC Experiment Setup</h2>\n",
    "<p>We use a `parser to set all the options for the ACDC experiment.\n",
    "This is still usable in notebooks! We can pass a string to the parser, see below.\n",
    "We'll reproduce </p>"
   ]
  },
  {
   "cell_type": "code",
   "execution_count": 7,
   "id": "656136b5",
   "metadata": {
    "execution": {
     "iopub.execute_input": "2023-06-16T20:31:41.504158Z",
     "iopub.status.busy": "2023-06-16T20:31:41.503343Z",
     "iopub.status.idle": "2023-06-16T20:31:41.568774Z",
     "shell.execute_reply": "2023-06-16T20:31:41.567807Z"
    },
    "papermill": {
     "duration": 0.076191,
     "end_time": "2023-06-16T20:31:41.572393",
     "exception": false,
     "start_time": "2023-06-16T20:31:41.496202",
     "status": "completed"
    },
    "tags": []
   },
   "outputs": [],
   "source": [
    "parser = argparse.ArgumentParser(description=\"Used to launch ACDC runs. Only task and threshold are required\")\n",
    "\n",
    "task_choices = ['ioi', 'docstring', 'induction', 'tracr-reverse', 'tracr-proportion', 'greaterthan']\n",
    "parser.add_argument('--task', type=str, required=True, choices=task_choices, help=f'Choose a task from the available options: {task_choices}')\n",
    "parser.add_argument('--threshold', type=float, required=True, help='Value for THRESHOLD')\n",
    "parser.add_argument('--first-cache-cpu', type=str, required=False, default=\"True\", help='Value for FIRST_CACHE_CPU (the old name for the `online_cache`)')\n",
    "parser.add_argument('--second-cache-cpu', type=str, required=False, default=\"True\", help='Value for SECOND_CACHE_CPU (the old name for the `corrupted_cache`)')\n",
    "parser.add_argument('--zero-ablation', action='store_true', help='Use zero ablation')\n",
    "parser.add_argument('--using-wandb', action='store_true', help='Use wandb')\n",
    "parser.add_argument('--wandb-entity-name', type=str, required=False, default=\"remix_school-of-rock\", help='Value for WANDB_ENTITY_NAME')\n",
    "parser.add_argument('--wandb-group-name', type=str, required=False, default=\"default\", help='Value for WANDB_GROUP_NAME')\n",
    "parser.add_argument('--wandb-project-name', type=str, required=False, default=\"acdc\", help='Value for WANDB_PROJECT_NAME')\n",
    "parser.add_argument('--wandb-run-name', type=str, required=False, default=None, help='Value for WANDB_RUN_NAME')\n",
    "parser.add_argument(\"--wandb-dir\", type=str, default=\"/tmp/wandb\")\n",
    "parser.add_argument(\"--wandb-mode\", type=str, default=\"online\")\n",
    "parser.add_argument('--indices-mode', type=str, default=\"normal\")\n",
    "parser.add_argument('--names-mode', type=str, default=\"normal\")\n",
    "parser.add_argument('--device', type=str, default=\"cuda\")\n",
    "parser.add_argument('--reset-network', type=int, default=0, help=\"Whether to reset the network we're operating on before running interp on it\")\n",
    "parser.add_argument('--metric', type=str, default=\"kl_div\", help=\"Which metric to use for the experiment\")\n",
    "parser.add_argument('--torch-num-threads', type=int, default=0, help=\"How many threads to use for torch (0=all)\")\n",
    "parser.add_argument('--seed', type=int, default=1234)\n",
    "parser.add_argument(\"--max-num-epochs\",type=int, default=100_000)\n",
    "parser.add_argument('--single-step', action='store_true', help='Use single step, mostly for testing')\n",
    "\n",
    "if ipython is not None:\n",
    "    # we are in a notebook\n",
    "    # you can put the command you would like to run as the ... in r\"\"\"...\"\"\"\n",
    "    args = parser.parse_args(\n",
    "        [line.strip() for line in r\"\"\"--task=docstring\\\n",
    "--zero-ablation\\\n",
    "--threshold=0.71\\\n",
    "--indices-mode=reverse\\\n",
    "--first-cache-cpu=False\\\n",
    "--second-cache-cpu=False\\\n",
    "--max-num-epochs=100000\"\"\".split(\"\\\\\\n\")]\n",
    "    )\n",
    "else:\n",
    "    # read from command line\n",
    "    args = parser.parse_args()\n",
    "\n",
    "# process args\n",
    "\n",
    "if args.torch_num_threads > 0:\n",
    "    torch.set_num_threads(args.torch_num_threads)\n",
    "torch.manual_seed(args.seed)\n",
    "\n",
    "TASK = args.task\n",
    "if args.first_cache_cpu is None: # manage default\n",
    "    ONLINE_CACHE_CPU = True\n",
    "elif args.first_cache_cpu.lower() == \"false\":\n",
    "    ONLINE_CACHE_CPU = False\n",
    "elif args.first_cache_cpu.lower() == \"true\":\n",
    "    ONLINE_CACHE_CPU = True\n",
    "else: \n",
    "    raise ValueError(f\"first_cache_cpu must be either True or False, got {args.first_cache_cpu}\")\n",
    "if args.second_cache_cpu is None:\n",
    "    CORRUPTED_CACHE_CPU = True\n",
    "elif args.second_cache_cpu.lower() == \"false\":\n",
    "    CORRUPTED_CACHE_CPU = False\n",
    "elif args.second_cache_cpu.lower() == \"true\":\n",
    "    CORRUPTED_CACHE_CPU = True\n",
    "else:\n",
    "    raise ValueError(f\"second_cache_cpu must be either True or False, got {args.second_cache_cpu}\")\n",
    "THRESHOLD = args.threshold  # only used if >= 0.0\n",
    "ZERO_ABLATION = True if args.zero_ablation else False\n",
    "USING_WANDB = True if args.using_wandb else False\n",
    "WANDB_ENTITY_NAME = args.wandb_entity_name\n",
    "WANDB_PROJECT_NAME = args.wandb_project_name\n",
    "WANDB_RUN_NAME = args.wandb_run_name\n",
    "WANDB_GROUP_NAME = args.wandb_group_name\n",
    "INDICES_MODE = args.indices_mode\n",
    "NAMES_MODE = args.names_mode\n",
    "DEVICE = args.device\n",
    "RESET_NETWORK = args.reset_network\n",
    "SINGLE_STEP = True if args.single_step else False"
   ]
  },
  {
   "cell_type": "markdown",
   "id": "e01a8eb3",
   "metadata": {
    "papermill": {
     "duration": 0.005464,
     "end_time": "2023-06-16T20:31:41.585485",
     "exception": false,
     "start_time": "2023-06-16T20:31:41.580021",
     "status": "completed"
    },
    "tags": []
   },
   "source": [
    "<h2>Setup Task</h2>"
   ]
  },
  {
   "cell_type": "code",
   "execution_count": 8,
   "id": "30203fcd",
   "metadata": {
    "execution": {
     "iopub.execute_input": "2023-06-16T20:31:41.598833Z",
     "iopub.status.busy": "2023-06-16T20:31:41.598355Z",
     "iopub.status.idle": "2023-06-16T20:31:43.384439Z",
     "shell.execute_reply": "2023-06-16T20:31:43.383456Z"
    },
    "lines_to_next_cell": 2,
    "papermill": {
     "duration": 1.797198,
     "end_time": "2023-06-16T20:31:43.388612",
     "exception": false,
     "start_time": "2023-06-16T20:31:41.591414",
     "status": "completed"
    },
    "tags": []
   },
   "outputs": [
    {
     "name": "stderr",
     "output_type": "stream",
     "text": [
      "Downloading (…)lve/main/config.json: 100%|██████████| 1.28k/1.28k [00:00<00:00, 6.98MB/s]\n",
      "Downloading model_final.pth: 100%|██████████| 221M/221M [00:06<00:00, 35.6MB/s] \n",
      "Downloading (…)okenizer_config.json: 100%|██████████| 51.0/51.0 [00:00<00:00, 278kB/s]\n",
      "Downloading (…)/main/tokenizer.json: 100%|██████████| 2.04M/2.04M [00:00<00:00, 70.7MB/s]\n",
      "Downloading (…)cial_tokens_map.json: 100%|██████████| 81.0/81.0 [00:00<00:00, 599kB/s]\n"
     ]
    },
    {
     "name": "stdout",
     "output_type": "stream",
     "text": [
      "Loaded pretrained model attn-only-4l into HookedTransformer\n",
      "Moving model to device:  cuda\n"
     ]
    }
   ],
   "source": [
    "second_metric = None  # some tasks only have one metric\n",
    "use_pos_embed = TASK.startswith(\"tracr\")\n",
    "\n",
    "if TASK == \"ioi\":\n",
    "    num_examples = 100\n",
    "    things = get_all_ioi_things(\n",
    "        num_examples=num_examples, device=DEVICE, metric_name=args.metric\n",
    "    )\n",
    "elif TASK == \"tracr-reverse\":\n",
    "    num_examples = 6\n",
    "    things = get_all_tracr_things(\n",
    "        task=\"reverse\",\n",
    "        metric_name=args.metric,\n",
    "        num_examples=num_examples,\n",
    "        device=DEVICE,\n",
    "    )\n",
    "elif TASK == \"tracr-proportion\":\n",
    "    num_examples = 50\n",
    "    things = get_all_tracr_things(\n",
    "        task=\"proportion\",\n",
    "        metric_name=args.metric,\n",
    "        num_examples=num_examples,\n",
    "        device=DEVICE,\n",
    "    )\n",
    "elif TASK == \"induction\":\n",
    "    num_examples = 10 if IN_COLAB else 50\n",
    "    seq_len = 300\n",
    "    # TODO initialize the `tl_model` with the right model\n",
    "    things = get_all_induction_things(\n",
    "        num_examples=num_examples, seq_len=seq_len, device=DEVICE, metric=args.metric\n",
    "    )\n",
    "elif TASK == \"docstring\":\n",
    "    num_examples = 50\n",
    "    seq_len = 41\n",
    "    things = get_all_docstring_things(\n",
    "        num_examples=num_examples,\n",
    "        seq_len=seq_len,\n",
    "        device=DEVICE,\n",
    "        metric_name=args.metric,\n",
    "        correct_incorrect_wandb=True,\n",
    "    )\n",
    "elif TASK == \"greaterthan\":\n",
    "    num_examples = 100\n",
    "    things = get_all_greaterthan_things(\n",
    "        num_examples=num_examples, metric_name=args.metric, device=DEVICE\n",
    "    )\n",
    "else:\n",
    "    raise ValueError(f\"Unknown task {TASK}\")"
   ]
  },
  {
   "cell_type": "markdown",
   "id": "2896ef21",
   "metadata": {
    "papermill": {
     "duration": 0.006475,
     "end_time": "2023-06-16T20:31:43.406352",
     "exception": false,
     "start_time": "2023-06-16T20:31:43.399877",
     "status": "completed"
    },
    "tags": []
   },
   "source": [
    "<p> Let's define the four most important objects for ACDC experiments:"
   ]
  },
  {
   "cell_type": "code",
   "execution_count": 9,
   "id": "0332ba8b",
   "metadata": {
    "execution": {
     "iopub.execute_input": "2023-06-16T20:31:43.420474Z",
     "iopub.status.busy": "2023-06-16T20:31:43.420030Z",
     "iopub.status.idle": "2023-06-16T20:31:43.471430Z",
     "shell.execute_reply": "2023-06-16T20:31:43.470503Z"
    },
    "papermill": {
     "duration": 0.062585,
     "end_time": "2023-06-16T20:31:43.475183",
     "exception": false,
     "start_time": "2023-06-16T20:31:43.412598",
     "status": "completed"
    },
    "tags": []
   },
   "outputs": [],
   "source": [
    "validation_metric = things.validation_metric # metric we use (e.g KL divergence)\n",
    "toks_int_values = things.validation_data # clean data x_i\n",
    "toks_int_values_other = things.validation_patch_data # corrupted data x_i'\n",
    "tl_model = things.tl_model # transformerlens model\n",
    "\n",
    "if RESET_NETWORK:\n",
    "    reset_network(TASK, DEVICE, tl_model)"
   ]
  },
  {
   "cell_type": "markdown",
   "id": "0b9edc14",
   "metadata": {
    "papermill": {
     "duration": 0.005822,
     "end_time": "2023-06-16T20:31:43.491324",
     "exception": false,
     "start_time": "2023-06-16T20:31:43.485502",
     "status": "completed"
    },
    "tags": []
   },
   "source": [
    "<h2>Setup ACDC Experiment</h2>"
   ]
  },
  {
   "cell_type": "code",
   "execution_count": 10,
   "id": "3dab87de",
   "metadata": {
    "execution": {
     "iopub.execute_input": "2023-06-16T20:31:43.504960Z",
     "iopub.status.busy": "2023-06-16T20:31:43.504514Z",
     "iopub.status.idle": "2023-06-16T20:31:45.441765Z",
     "shell.execute_reply": "2023-06-16T20:31:45.440672Z"
    },
    "papermill": {
     "duration": 1.950511,
     "end_time": "2023-06-16T20:31:45.447745",
     "exception": true,
     "start_time": "2023-06-16T20:31:43.497234",
     "status": "failed"
    },
    "tags": []
   },
   "outputs": [
    {
     "name": "stderr",
     "output_type": "stream",
     "text": [
      "WARNING:root:cache_all is deprecated and will eventually be removed, use add_caching_hooks or run_with_cache\n",
      "WARNING:root:cache_all is deprecated and will eventually be removed, use add_caching_hooks or run_with_cache\n"
     ]
    },
    {
     "name": "stdout",
     "output_type": "stream",
     "text": [
      "dict_keys(['blocks.3.hook_resid_post', 'blocks.3.attn.hook_result', 'blocks.3.attn.hook_q', 'blocks.3.hook_q_input', 'blocks.3.attn.hook_k', 'blocks.3.hook_k_input', 'blocks.3.attn.hook_v', 'blocks.3.hook_v_input', 'blocks.2.attn.hook_result', 'blocks.2.attn.hook_q', 'blocks.2.hook_q_input', 'blocks.2.attn.hook_k', 'blocks.2.hook_k_input', 'blocks.2.attn.hook_v', 'blocks.2.hook_v_input', 'blocks.1.attn.hook_result', 'blocks.1.attn.hook_q', 'blocks.1.hook_q_input', 'blocks.1.attn.hook_k', 'blocks.1.hook_k_input', 'blocks.1.attn.hook_v', 'blocks.1.hook_v_input', 'blocks.0.attn.hook_result', 'blocks.0.attn.hook_q', 'blocks.0.hook_q_input', 'blocks.0.attn.hook_k', 'blocks.0.hook_k_input', 'blocks.0.attn.hook_v', 'blocks.0.hook_v_input', 'blocks.0.hook_resid_pre'])\n",
      "ln_final.hook_normalized\n",
      "ln_final.hook_scale\n",
      "blocks.3.hook_resid_post\n",
      "blocks.3.hook_attn_out\n",
      "blocks.3.attn.hook_result\n",
      "blocks.3.attn.hook_z\n",
      "blocks.3.attn.hook_pattern\n",
      "blocks.3.attn.hook_attn_scores\n",
      "blocks.3.attn.hook_v\n",
      "blocks.3.attn.hook_k\n",
      "blocks.3.attn.hook_q\n",
      "blocks.3.ln1.hook_normalized\n",
      "blocks.3.ln1.hook_scale\n",
      "blocks.3.hook_v_input\n",
      "blocks.3.hook_k_input\n",
      "blocks.3.hook_q_input\n",
      "blocks.3.hook_resid_pre\n",
      "blocks.2.hook_resid_post\n",
      "blocks.2.hook_attn_out\n",
      "blocks.2.attn.hook_result\n",
      "blocks.2.attn.hook_z\n",
      "blocks.2.attn.hook_pattern\n",
      "blocks.2.attn.hook_attn_scores\n",
      "blocks.2.attn.hook_v\n",
      "blocks.2.attn.hook_k\n",
      "blocks.2.attn.hook_q\n",
      "blocks.2.ln1.hook_normalized\n",
      "blocks.2.ln1.hook_scale\n",
      "blocks.2.hook_v_input\n",
      "blocks.2.hook_k_input\n",
      "blocks.2.hook_q_input\n",
      "blocks.2.hook_resid_pre\n",
      "blocks.1.hook_resid_post\n",
      "blocks.1.hook_attn_out\n",
      "blocks.1.attn.hook_result\n",
      "blocks.1.attn.hook_z\n",
      "blocks.1.attn.hook_pattern\n",
      "blocks.1.attn.hook_attn_scores\n",
      "blocks.1.attn.hook_v\n",
      "blocks.1.attn.hook_k\n",
      "blocks.1.attn.hook_q\n",
      "blocks.1.ln1.hook_normalized\n",
      "blocks.1.ln1.hook_scale\n",
      "blocks.1.hook_v_input\n",
      "blocks.1.hook_k_input\n",
      "blocks.1.hook_q_input\n",
      "blocks.1.hook_resid_pre\n",
      "blocks.0.hook_resid_post\n",
      "blocks.0.hook_attn_out\n",
      "blocks.0.attn.hook_result\n",
      "blocks.0.attn.hook_z\n",
      "blocks.0.attn.hook_pattern\n",
      "blocks.0.attn.hook_attn_scores\n",
      "blocks.0.attn.hook_v\n",
      "blocks.0.attn.hook_k\n",
      "blocks.0.attn.hook_q\n",
      "blocks.0.ln1.hook_normalized\n",
      "blocks.0.ln1.hook_scale\n",
      "blocks.0.hook_v_input\n",
      "blocks.0.hook_k_input\n",
      "blocks.0.hook_q_input\n",
      "blocks.0.hook_resid_pre\n",
      "hook_pos_embed\n",
      "hook_embed\n",
      "self.current_node=TLACDCInterpNode(blocks.3.hook_resid_post, [:])\n",
      "Adding sender hooks...\n",
      "Done corrupting things\n",
      "Adding sender hooks...\n",
      "No edge 1377\n"
     ]
    }
   ],
   "source": [
    "# Make notes for potential wandb run\n",
    "try:\n",
    "    with open(__file__, \"r\") as f:\n",
    "        notes = f.read()\n",
    "except:\n",
    "    notes = \"No notes generated, expected when running in an .ipynb file\"\n",
    "\n",
    "tl_model.reset_hooks()\n",
    "\n",
    "# Save some mem\n",
    "gc.collect()\n",
    "torch.cuda.empty_cache()\n",
    "\n",
    "# Setup wandb if needed\n",
    "if WANDB_RUN_NAME is None or IPython.get_ipython() is not None:\n",
    "    WANDB_RUN_NAME = f\"{ct()}{'_randomindices' if INDICES_MODE=='random' else ''}_{THRESHOLD}{'_zero' if ZERO_ABLATION else ''}\"\n",
    "else:\n",
    "    assert WANDB_RUN_NAME is not None, \"I want named runs, always\"\n",
    "\n",
    "tl_model.reset_hooks()\n",
    "exp = TLACDCExperiment(\n",
    "    model=tl_model,\n",
    "    threshold=THRESHOLD,\n",
    "    using_wandb=USING_WANDB,\n",
    "    wandb_entity_name=WANDB_ENTITY_NAME,\n",
    "    wandb_project_name=WANDB_PROJECT_NAME,\n",
    "    wandb_run_name=WANDB_RUN_NAME,\n",
    "    wandb_group_name=WANDB_GROUP_NAME,\n",
    "    wandb_notes=notes,\n",
    "    wandb_dir=args.wandb_dir,\n",
    "    wandb_mode=args.wandb_mode,\n",
    "    wandb_config=args,\n",
    "    zero_ablation=ZERO_ABLATION,\n",
    "    ds=toks_int_values,\n",
    "    ref_ds=toks_int_values_other,\n",
    "    metric=validation_metric,\n",
    "    second_metric=second_metric,\n",
    "    verbose=True,\n",
    "    indices_mode=INDICES_MODE,\n",
    "    names_mode=NAMES_MODE,\n",
    "    corrupted_cache_cpu=CORRUPTED_CACHE_CPU,\n",
    "    hook_verbose=False,\n",
    "    online_cache_cpu=ONLINE_CACHE_CPU,\n",
    "    add_sender_hooks=True,\n",
    "    use_pos_embed=use_pos_embed,\n",
    "    add_receiver_hooks=False,\n",
    "    remove_redundant=False,\n",
    "    show_full_index=use_pos_embed,\n",
    ")"
   ]
  },
  {
   "cell_type": "markdown",
   "id": "ce1b6665",
   "metadata": {
    "papermill": {
     "duration": null,
     "end_time": null,
     "exception": null,
     "start_time": null,
     "status": "pending"
    },
    "tags": []
   },
   "source": [
    "<h2>Run steps of ACDC: iterate over a NODE in the model's computational graph</h2>\n",
    "<p>WARNING! This will take a few minutes to run, but there should be rolling nice pictures too : )</p>"
   ]
  },
  {
   "cell_type": "code",
   "execution_count": 11,
   "id": "a0315a9d",
   "metadata": {
    "papermill": {
     "duration": null,
     "end_time": null,
     "exception": null,
     "start_time": null,
     "status": "pending"
    },
    "tags": []
   },
   "outputs": [
    {
     "name": "stdout",
     "output_type": "stream",
     "text": [
      "No edge 1377\n",
      "New metric: 0.0\n",
      "\n",
      "Node: cur_parent=TLACDCInterpNode(blocks.3.attn.hook_result, [:, :, 0]) (self.current_node=TLACDCInterpNode(blocks.3.hook_resid_post, [:]))\n",
      "\n",
      "Metric after removing connection to blocks.3.attn.hook_result [:, :, 0] is 0.9721153974533081 (and current metric 0.0)\n",
      "Result is 0.9721153974533081...so keeping connection\n",
      "\n",
      "Node: cur_parent=TLACDCInterpNode(blocks.3.attn.hook_result, [:, :, 1]) (self.current_node=TLACDCInterpNode(blocks.3.hook_resid_post, [:]))\n",
      "\n",
      "Metric after removing connection to blocks.3.attn.hook_result [:, :, 1] is 0.01907707378268242 (and current metric 0.0)\n",
      "Result is 0.01907707378268242...so removing connection\n",
      "\n",
      "Node: cur_parent=TLACDCInterpNode(blocks.3.attn.hook_result, [:, :, 2]) (self.current_node=TLACDCInterpNode(blocks.3.hook_resid_post, [:]))\n",
      "\n",
      "Metric after removing connection to blocks.3.attn.hook_result [:, :, 2] is 0.14686426520347595 (and current metric 0.01907707378268242)\n",
      "Result is 0.12778719142079353...so removing connection\n",
      "\n",
      "Node: cur_parent=TLACDCInterpNode(blocks.3.attn.hook_result, [:, :, 3]) (self.current_node=TLACDCInterpNode(blocks.3.hook_resid_post, [:]))\n",
      "\n",
      "Metric after removing connection to blocks.3.attn.hook_result [:, :, 3] is 0.2659270167350769 (and current metric 0.14686426520347595)\n",
      "Result is 0.11906275153160095...so removing connection\n",
      "\n",
      "Node: cur_parent=TLACDCInterpNode(blocks.3.attn.hook_result, [:, :, 4]) (self.current_node=TLACDCInterpNode(blocks.3.hook_resid_post, [:]))\n",
      "\n",
      "Metric after removing connection to blocks.3.attn.hook_result [:, :, 4] is 0.2667253911495209 (and current metric 0.2659270167350769)\n",
      "Result is 0.0007983744144439697...so removing connection\n",
      "\n",
      "Node: cur_parent=TLACDCInterpNode(blocks.3.attn.hook_result, [:, :, 5]) (self.current_node=TLACDCInterpNode(blocks.3.hook_resid_post, [:]))\n",
      "\n",
      "Metric after removing connection to blocks.3.attn.hook_result [:, :, 5] is 0.4027620851993561 (and current metric 0.2667253911495209)\n",
      "Result is 0.1360366940498352...so removing connection\n",
      "\n",
      "Node: cur_parent=TLACDCInterpNode(blocks.3.attn.hook_result, [:, :, 6]) (self.current_node=TLACDCInterpNode(blocks.3.hook_resid_post, [:]))\n",
      "\n",
      "Metric after removing connection to blocks.3.attn.hook_result [:, :, 6] is 1.3722524642944336 (and current metric 0.4027620851993561)\n",
      "Result is 0.9694903790950775...so keeping connection\n",
      "\n",
      "Node: cur_parent=TLACDCInterpNode(blocks.3.attn.hook_result, [:, :, 7]) (self.current_node=TLACDCInterpNode(blocks.3.hook_resid_post, [:]))\n",
      "\n",
      "Metric after removing connection to blocks.3.attn.hook_result [:, :, 7] is 0.3299581706523895 (and current metric 0.4027620851993561)\n",
      "Result is -0.07280391454696655...so removing connection\n",
      "No edge 1371\n",
      "\n",
      "Node: cur_parent=TLACDCInterpNode(blocks.2.attn.hook_result, [:, :, 0]) (self.current_node=TLACDCInterpNode(blocks.3.hook_resid_post, [:]))\n",
      "\n",
      "Metric after removing connection to blocks.2.attn.hook_result [:, :, 0] is 0.36669477820396423 (and current metric 0.3299581706523895)\n",
      "Result is 0.03673660755157471...so removing connection\n",
      "\n",
      "Node: cur_parent=TLACDCInterpNode(blocks.2.attn.hook_result, [:, :, 1]) (self.current_node=TLACDCInterpNode(blocks.3.hook_resid_post, [:]))\n",
      "\n",
      "Metric after removing connection to blocks.2.attn.hook_result [:, :, 1] is 0.4405534267425537 (and current metric 0.36669477820396423)\n",
      "Result is 0.07385864853858948...so removing connection\n",
      "\n",
      "Node: cur_parent=TLACDCInterpNode(blocks.2.attn.hook_result, [:, :, 2]) (self.current_node=TLACDCInterpNode(blocks.3.hook_resid_post, [:]))\n",
      "\n",
      "Metric after removing connection to blocks.2.attn.hook_result [:, :, 2] is 0.5096253752708435 (and current metric 0.4405534267425537)\n",
      "Result is 0.0690719485282898...so removing connection\n",
      "\n",
      "Node: cur_parent=TLACDCInterpNode(blocks.2.attn.hook_result, [:, :, 3]) (self.current_node=TLACDCInterpNode(blocks.3.hook_resid_post, [:]))\n",
      "\n",
      "Metric after removing connection to blocks.2.attn.hook_result [:, :, 3] is 0.6246172785758972 (and current metric 0.5096253752708435)\n",
      "Result is 0.11499190330505371...so removing connection\n",
      "\n",
      "Node: cur_parent=TLACDCInterpNode(blocks.2.attn.hook_result, [:, :, 4]) (self.current_node=TLACDCInterpNode(blocks.3.hook_resid_post, [:]))\n",
      "\n",
      "Metric after removing connection to blocks.2.attn.hook_result [:, :, 4] is 0.720355749130249 (and current metric 0.6246172785758972)\n",
      "Result is 0.0957384705543518...so removing connection\n",
      "\n",
      "Node: cur_parent=TLACDCInterpNode(blocks.2.attn.hook_result, [:, :, 5]) (self.current_node=TLACDCInterpNode(blocks.3.hook_resid_post, [:]))\n",
      "\n",
      "Metric after removing connection to blocks.2.attn.hook_result [:, :, 5] is 1.013550877571106 (and current metric 0.720355749130249)\n",
      "Result is 0.29319512844085693...so removing connection\n",
      "\n",
      "Node: cur_parent=TLACDCInterpNode(blocks.2.attn.hook_result, [:, :, 6]) (self.current_node=TLACDCInterpNode(blocks.3.hook_resid_post, [:]))\n",
      "\n",
      "Metric after removing connection to blocks.2.attn.hook_result [:, :, 6] is 1.0572381019592285 (and current metric 1.013550877571106)\n",
      "Result is 0.04368722438812256...so removing connection\n",
      "\n",
      "Node: cur_parent=TLACDCInterpNode(blocks.2.attn.hook_result, [:, :, 7]) (self.current_node=TLACDCInterpNode(blocks.3.hook_resid_post, [:]))\n",
      "\n",
      "Metric after removing connection to blocks.2.attn.hook_result [:, :, 7] is 1.260533332824707 (and current metric 1.0572381019592285)\n",
      "Result is 0.20329523086547852...so removing connection\n",
      "No edge 1363\n",
      "\n",
      "Node: cur_parent=TLACDCInterpNode(blocks.1.attn.hook_result, [:, :, 0]) (self.current_node=TLACDCInterpNode(blocks.3.hook_resid_post, [:]))\n",
      "\n",
      "Metric after removing connection to blocks.1.attn.hook_result [:, :, 0] is 1.161392331123352 (and current metric 1.260533332824707)\n",
      "Result is -0.09914100170135498...so removing connection\n",
      "\n",
      "Node: cur_parent=TLACDCInterpNode(blocks.1.attn.hook_result, [:, :, 1]) (self.current_node=TLACDCInterpNode(blocks.3.hook_resid_post, [:]))\n",
      "\n",
      "Metric after removing connection to blocks.1.attn.hook_result [:, :, 1] is 1.3485137224197388 (and current metric 1.161392331123352)\n",
      "Result is 0.18712139129638672...so removing connection\n",
      "\n",
      "Node: cur_parent=TLACDCInterpNode(blocks.1.attn.hook_result, [:, :, 2]) (self.current_node=TLACDCInterpNode(blocks.3.hook_resid_post, [:]))\n",
      "\n",
      "Metric after removing connection to blocks.1.attn.hook_result [:, :, 2] is 1.3009252548217773 (and current metric 1.3485137224197388)\n",
      "Result is -0.047588467597961426...so removing connection\n",
      "\n",
      "Node: cur_parent=TLACDCInterpNode(blocks.1.attn.hook_result, [:, :, 3]) (self.current_node=TLACDCInterpNode(blocks.3.hook_resid_post, [:]))\n",
      "\n",
      "Metric after removing connection to blocks.1.attn.hook_result [:, :, 3] is 1.3141857385635376 (and current metric 1.3009252548217773)\n",
      "Result is 0.013260483741760254...so removing connection\n",
      "\n",
      "Node: cur_parent=TLACDCInterpNode(blocks.1.attn.hook_result, [:, :, 4]) (self.current_node=TLACDCInterpNode(blocks.3.hook_resid_post, [:]))\n",
      "\n",
      "Metric after removing connection to blocks.1.attn.hook_result [:, :, 4] is 1.321759581565857 (and current metric 1.3141857385635376)\n",
      "Result is 0.007573843002319336...so removing connection\n",
      "\n",
      "Node: cur_parent=TLACDCInterpNode(blocks.1.attn.hook_result, [:, :, 5]) (self.current_node=TLACDCInterpNode(blocks.3.hook_resid_post, [:]))\n",
      "\n",
      "Metric after removing connection to blocks.1.attn.hook_result [:, :, 5] is 1.2998111248016357 (and current metric 1.321759581565857)\n",
      "Result is -0.02194845676422119...so removing connection\n",
      "\n",
      "Node: cur_parent=TLACDCInterpNode(blocks.1.attn.hook_result, [:, :, 6]) (self.current_node=TLACDCInterpNode(blocks.3.hook_resid_post, [:]))\n",
      "\n",
      "Metric after removing connection to blocks.1.attn.hook_result [:, :, 6] is 1.2525091171264648 (and current metric 1.2998111248016357)\n",
      "Result is -0.0473020076751709...so removing connection\n",
      "\n",
      "Node: cur_parent=TLACDCInterpNode(blocks.1.attn.hook_result, [:, :, 7]) (self.current_node=TLACDCInterpNode(blocks.3.hook_resid_post, [:]))\n",
      "\n",
      "Metric after removing connection to blocks.1.attn.hook_result [:, :, 7] is 1.2949316501617432 (and current metric 1.2525091171264648)\n",
      "Result is 0.04242253303527832...so removing connection\n",
      "No edge 1355\n",
      "\n",
      "Node: cur_parent=TLACDCInterpNode(blocks.0.attn.hook_result, [:, :, 0]) (self.current_node=TLACDCInterpNode(blocks.3.hook_resid_post, [:]))\n",
      "\n",
      "Metric after removing connection to blocks.0.attn.hook_result [:, :, 0] is 1.2775208950042725 (and current metric 1.2949316501617432)\n",
      "Result is -0.017410755157470703...so removing connection\n",
      "\n",
      "Node: cur_parent=TLACDCInterpNode(blocks.0.attn.hook_result, [:, :, 1]) (self.current_node=TLACDCInterpNode(blocks.3.hook_resid_post, [:]))\n",
      "\n",
      "Metric after removing connection to blocks.0.attn.hook_result [:, :, 1] is 1.216079831123352 (and current metric 1.2775208950042725)\n",
      "Result is -0.06144106388092041...so removing connection\n",
      "\n",
      "Node: cur_parent=TLACDCInterpNode(blocks.0.attn.hook_result, [:, :, 2]) (self.current_node=TLACDCInterpNode(blocks.3.hook_resid_post, [:]))\n",
      "\n",
      "Metric after removing connection to blocks.0.attn.hook_result [:, :, 2] is 1.6190392971038818 (and current metric 1.216079831123352)\n",
      "Result is 0.4029594659805298...so removing connection\n",
      "\n",
      "Node: cur_parent=TLACDCInterpNode(blocks.0.attn.hook_result, [:, :, 3]) (self.current_node=TLACDCInterpNode(blocks.3.hook_resid_post, [:]))\n",
      "\n",
      "Metric after removing connection to blocks.0.attn.hook_result [:, :, 3] is 1.6412627696990967 (and current metric 1.6190392971038818)\n",
      "Result is 0.022223472595214844...so removing connection\n",
      "\n",
      "Node: cur_parent=TLACDCInterpNode(blocks.0.attn.hook_result, [:, :, 4]) (self.current_node=TLACDCInterpNode(blocks.3.hook_resid_post, [:]))\n",
      "\n",
      "Metric after removing connection to blocks.0.attn.hook_result [:, :, 4] is 1.8124871253967285 (and current metric 1.6412627696990967)\n",
      "Result is 0.17122435569763184...so removing connection\n",
      "\n",
      "Node: cur_parent=TLACDCInterpNode(blocks.0.attn.hook_result, [:, :, 5]) (self.current_node=TLACDCInterpNode(blocks.3.hook_resid_post, [:]))\n",
      "\n",
      "Metric after removing connection to blocks.0.attn.hook_result [:, :, 5] is 1.9110430479049683 (and current metric 1.8124871253967285)\n",
      "Result is 0.09855592250823975...so removing connection\n",
      "\n",
      "Node: cur_parent=TLACDCInterpNode(blocks.0.attn.hook_result, [:, :, 6]) (self.current_node=TLACDCInterpNode(blocks.3.hook_resid_post, [:]))\n",
      "\n",
      "Metric after removing connection to blocks.0.attn.hook_result [:, :, 6] is 1.9070972204208374 (and current metric 1.9110430479049683)\n",
      "Result is -0.003945827484130859...so removing connection\n",
      "\n",
      "Node: cur_parent=TLACDCInterpNode(blocks.0.attn.hook_result, [:, :, 7]) (self.current_node=TLACDCInterpNode(blocks.3.hook_resid_post, [:]))\n",
      "\n",
      "Metric after removing connection to blocks.0.attn.hook_result [:, :, 7] is 2.181579351425171 (and current metric 1.9070972204208374)\n",
      "Result is 0.2744821310043335...so removing connection\n",
      "No edge 1347\n",
      "\n",
      "Node: cur_parent=TLACDCInterpNode(blocks.0.hook_resid_pre, [:]) (self.current_node=TLACDCInterpNode(blocks.3.hook_resid_post, [:]))\n",
      "\n",
      "Metric after removing connection to blocks.0.hook_resid_pre [:] is 2.4468414783477783 (and current metric 2.181579351425171)\n",
      "Result is 0.2652621269226074...so removing connection\n",
      "No edge 1346\n"
     ]
    },
    {
     "ename": "ModuleNotFoundError",
     "evalue": "No module named 'cmapy'",
     "output_type": "error",
     "traceback": [
      "\u001b[0;31m---------------------------------------------------------------------------\u001b[0m",
      "\u001b[0;31mModuleNotFoundError\u001b[0m                       Traceback (most recent call last)",
      "Cell \u001b[0;32mIn[11], line 2\u001b[0m\n\u001b[1;32m      1\u001b[0m \u001b[39mfor\u001b[39;00m i \u001b[39min\u001b[39;00m \u001b[39mrange\u001b[39m(args\u001b[39m.\u001b[39mmax_num_epochs):\n\u001b[0;32m----> 2\u001b[0m     exp\u001b[39m.\u001b[39mstep(testing\u001b[39m=\u001b[39m\u001b[39mFalse\u001b[39;00m)\n\u001b[1;32m      4\u001b[0m     show(\n\u001b[1;32m      5\u001b[0m         exp\u001b[39m.\u001b[39mcorr,\n\u001b[1;32m      6\u001b[0m         \u001b[39mf\u001b[39m\u001b[39m\"\u001b[39m\u001b[39mims/img_new_\u001b[39m\u001b[39m{\u001b[39;00mi\u001b[39m+\u001b[39m\u001b[39m1\u001b[39m\u001b[39m}\u001b[39;00m\u001b[39m.png\u001b[39m\u001b[39m\"\u001b[39m,\n\u001b[1;32m      7\u001b[0m         show_full_index\u001b[39m=\u001b[39muse_pos_embed,\n\u001b[1;32m      8\u001b[0m     )\n\u001b[1;32m     10\u001b[0m     \u001b[39mif\u001b[39;00m IN_COLAB \u001b[39mor\u001b[39;00m ipython \u001b[39mis\u001b[39;00m \u001b[39mnot\u001b[39;00m \u001b[39mNone\u001b[39;00m:\n\u001b[1;32m     11\u001b[0m         \u001b[39m# so long as we're not running this as a script, show the image!\u001b[39;00m\n",
      "File \u001b[0;32m~/Automatic-Circuit-Discovery/acdc/TLACDCExperiment.py:642\u001b[0m, in \u001b[0;36mTLACDCExperiment.step\u001b[0;34m(self, early_stop, testing)\u001b[0m\n\u001b[1;32m    640\u001b[0m \u001b[39mif\u001b[39;00m is_this_node_used \u001b[39mand\u001b[39;00m \u001b[39mself\u001b[39m\u001b[39m.\u001b[39mcurrent_node\u001b[39m.\u001b[39mincoming_edge_type\u001b[39m.\u001b[39mvalue \u001b[39m!=\u001b[39m EdgeType\u001b[39m.\u001b[39mPLACEHOLDER\u001b[39m.\u001b[39mvalue:\n\u001b[1;32m    641\u001b[0m     fname \u001b[39m=\u001b[39m \u001b[39mf\u001b[39m\u001b[39m\"\u001b[39m\u001b[39mims/img_new_\u001b[39m\u001b[39m{\u001b[39;00m\u001b[39mself\u001b[39m\u001b[39m.\u001b[39mstep_idx\u001b[39m}\u001b[39;00m\u001b[39m.png\u001b[39m\u001b[39m\"\u001b[39m\n\u001b[0;32m--> 642\u001b[0m     show(\n\u001b[1;32m    643\u001b[0m         \u001b[39mself\u001b[39m\u001b[39m.\u001b[39mcorr,\n\u001b[1;32m    644\u001b[0m         fname\u001b[39m=\u001b[39mfname,\n\u001b[1;32m    645\u001b[0m         show_full_index\u001b[39m=\u001b[39m\u001b[39mself\u001b[39m\u001b[39m.\u001b[39mshow_full_index,\n\u001b[1;32m    646\u001b[0m     )\n\u001b[1;32m    647\u001b[0m     \u001b[39mif\u001b[39;00m \u001b[39mself\u001b[39m\u001b[39m.\u001b[39musing_wandb:\n\u001b[1;32m    648\u001b[0m         wandb\u001b[39m.\u001b[39mlog(\n\u001b[1;32m    649\u001b[0m             {\u001b[39m\"\u001b[39m\u001b[39macdc_graph\u001b[39m\u001b[39m\"\u001b[39m: wandb\u001b[39m.\u001b[39mImage(fname),}\n\u001b[1;32m    650\u001b[0m         )\n",
      "File \u001b[0;32m~/Automatic-Circuit-Discovery/acdc/acdc_graphics.py:108\u001b[0m, in \u001b[0;36mshow\u001b[0;34m(correspondence, fname, colorscheme, minimum_penwidth, show_full_index, remove_self_loops, remove_qkv)\u001b[0m\n\u001b[1;32m    105\u001b[0m g \u001b[39m=\u001b[39m pgv\u001b[39m.\u001b[39mAGraph(directed\u001b[39m=\u001b[39m\u001b[39mTrue\u001b[39;00m, bgcolor\u001b[39m=\u001b[39m\u001b[39m\"\u001b[39m\u001b[39mtransparent\u001b[39m\u001b[39m\"\u001b[39m)\n\u001b[1;32m    107\u001b[0m \u001b[39mif\u001b[39;00m \u001b[39misinstance\u001b[39m(colorscheme, \u001b[39mstr\u001b[39m):\n\u001b[0;32m--> 108\u001b[0m     colors \u001b[39m=\u001b[39m build_colorscheme(correspondence, colorscheme, show_full_index\u001b[39m=\u001b[39mshow_full_index)\n\u001b[1;32m    109\u001b[0m \u001b[39melse\u001b[39;00m:\n\u001b[1;32m    110\u001b[0m     colors \u001b[39m=\u001b[39m colorscheme\n",
      "File \u001b[0;32m~/Automatic-Circuit-Discovery/acdc/acdc_graphics.py:89\u001b[0m, in \u001b[0;36mbuild_colorscheme\u001b[0;34m(correspondence, colorscheme, show_full_index)\u001b[0m\n\u001b[1;32m     87\u001b[0m colors \u001b[39m=\u001b[39m {}\n\u001b[1;32m     88\u001b[0m \u001b[39mfor\u001b[39;00m node \u001b[39min\u001b[39;00m correspondence\u001b[39m.\u001b[39mnodes():\n\u001b[0;32m---> 89\u001b[0m     colors[get_node_name(node, show_full_index\u001b[39m=\u001b[39mshow_full_index)] \u001b[39m=\u001b[39m generate_random_color(colorscheme)\n\u001b[1;32m     90\u001b[0m \u001b[39mreturn\u001b[39;00m colors\n",
      "File \u001b[0;32m~/Automatic-Circuit-Discovery/acdc/acdc_graphics.py:28\u001b[0m, in \u001b[0;36mgenerate_random_color\u001b[0;34m(colorscheme)\u001b[0m\n\u001b[1;32m     24\u001b[0m \u001b[39mdef\u001b[39;00m \u001b[39mgenerate_random_color\u001b[39m(colorscheme: \u001b[39mstr\u001b[39m) \u001b[39m-\u001b[39m\u001b[39m>\u001b[39m \u001b[39mstr\u001b[39m:\n\u001b[1;32m     25\u001b[0m \u001b[39m    \u001b[39m\u001b[39m\"\"\"\u001b[39;00m\n\u001b[1;32m     26\u001b[0m \u001b[39m    https://stackoverflow.com/questions/28999287/generate-random-colors-rgb\u001b[39;00m\n\u001b[1;32m     27\u001b[0m \u001b[39m    \"\"\"\u001b[39;00m\n\u001b[0;32m---> 28\u001b[0m     \u001b[39mimport\u001b[39;00m \u001b[39mcmapy\u001b[39;00m\n\u001b[1;32m     30\u001b[0m     \u001b[39mdef\u001b[39;00m \u001b[39mrgb2hex\u001b[39m(rgb):\n\u001b[1;32m     31\u001b[0m \u001b[39m        \u001b[39m\u001b[39m\"\"\"\u001b[39;00m\n\u001b[1;32m     32\u001b[0m \u001b[39m        https://stackoverflow.com/questions/3380726/converting-an-rgb-color-tuple-to-a-hexidecimal-string\u001b[39;00m\n\u001b[1;32m     33\u001b[0m \u001b[39m        \"\"\"\u001b[39;00m\n",
      "\u001b[0;31mModuleNotFoundError\u001b[0m: No module named 'cmapy'"
     ]
    }
   ],
   "source": [
    "for i in range(args.max_num_epochs):\n",
    "    exp.step(testing=False)\n",
    "\n",
    "    show(\n",
    "        exp.corr,\n",
    "        f\"ims/img_new_{i+1}.png\",\n",
    "        show_full_index=use_pos_embed,\n",
    "    )\n",
    "\n",
    "    if IN_COLAB or ipython is not None:\n",
    "        # so long as we're not running this as a script, show the image!\n",
    "        display(Image(f\"ims/img_new_{i+1}.png\"))\n",
    "\n",
    "    print(i, \"-\" * 50)\n",
    "    print(exp.count_no_edges())\n",
    "\n",
    "    if i == 0:\n",
    "        exp.save_edges(\"edges.pkl\")\n",
    "\n",
    "    if exp.current_node is None or SINGLE_STEP:\n",
    "        break\n",
    "\n",
    "exp.save_edges(\"another_final_edges.pkl\")\n",
    "\n",
    "if USING_WANDB:\n",
    "    edges_fname = f\"edges.pth\"\n",
    "    exp.save_edges(edges_fname)\n",
    "    artifact = wandb.Artifact(edges_fname, type=\"dataset\")\n",
    "    artifact.add_file(edges_fname)\n",
    "    wandb.log_artifact(artifact)\n",
    "    os.remove(edges_fname)\n",
    "    wandb.finish()"
   ]
  },
  {
   "cell_type": "markdown",
   "id": "ee1e5fa1",
   "metadata": {
    "papermill": {
     "duration": null,
     "end_time": null,
     "exception": null,
     "start_time": null,
     "status": "pending"
    },
    "tags": []
   },
   "source": [
    "<h2>Save the final subgraph of the model</h2>\n",
    "<p>There are more than `exp.count_no_edges()` here because we include some \"placeholder\" edges needed to make ACDC work that don't actually matter</p>\n",
    "<p>Also note that the final image has more than 12 edges, because the edges from a0.0_q and a0.0_k are not connected to the input</p>\n",
    "<p>We recover minimal induction machinery! `embed -> a0.0_v -> a1.6k`</p>"
   ]
  },
  {
   "cell_type": "code",
   "execution_count": null,
   "id": "ebcc5ebc",
   "metadata": {
    "papermill": {
     "duration": null,
     "end_time": null,
     "exception": null,
     "start_time": null,
     "status": "pending"
    },
    "tags": []
   },
   "outputs": [
    {
     "ename": "",
     "evalue": "",
     "output_type": "error",
     "traceback": [
      "\u001b[1;31mRunning cells with 'acdc' requires the ipykernel package.\n",
      "\u001b[1;31mRun the following command to install 'ipykernel' into the Python environment. \n",
      "\u001b[1;31mCommand: 'conda install -n acdc ipykernel --update-deps --force-reinstall'"
     ]
    }
   ],
   "source": [
    "exp.save_subgraph(\n",
    "    return_it=True,\n",
    ") "
   ]
  },
  {
   "cell_type": "code",
   "execution_count": null,
   "id": "6ad31780",
   "metadata": {},
   "outputs": [
    {
     "ename": "",
     "evalue": "",
     "output_type": "error",
     "traceback": [
      "\u001b[1;31mRunning cells with 'acdc' requires the ipykernel package.\n",
      "\u001b[1;31mRun the following command to install 'ipykernel' into the Python environment. \n",
      "\u001b[1;31mCommand: 'conda install -n acdc ipykernel --update-deps --force-reinstall'"
     ]
    }
   ],
   "source": []
  }
 ],
 "metadata": {
  "jupytext": {
   "cell_metadata_filter": "-all",
   "main_language": "python",
   "notebook_metadata_filter": "-all"
  },
  "kernelspec": {
   "display_name": "Python 3 (ipykernel)",
   "language": "python",
   "name": "python3"
  },
  "language_info": {
   "codemirror_mode": {
    "name": "ipython",
    "version": 3
   },
   "file_extension": ".py",
   "mimetype": "text/x-python",
   "name": "python",
   "nbconvert_exporter": "python",
   "pygments_lexer": "ipython3",
   "version": "3.9.16"
  },
  "papermill": {
   "default_parameters": {},
   "duration": 12.210943,
   "end_time": "2023-06-16T20:31:46.783558",
   "environment_variables": {},
   "exception": true,
   "input_path": "notebooks/_converted/main_demo.ipynb",
   "output_path": "notebooks/colabs/ACDC_Main_Demo.ipynb",
   "parameters": {},
   "start_time": "2023-06-16T20:31:34.572615",
   "version": "2.4.0"
  },
  "vscode": {
   "interpreter": {
    "hash": "d4d1e4263499bec80672ea0156c357c1ee493ec2b1c70f0acce89fc37c4a6abe"
   }
  }
 },
 "nbformat": 4,
 "nbformat_minor": 5
}
